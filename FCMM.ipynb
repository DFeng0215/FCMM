{
  "nbformat": 4,
  "nbformat_minor": 0,
  "metadata": {
    "colab": {
      "provenance": [],
      "authorship_tag": "ABX9TyN3500gIbI8xgI2K/PFqSkc",
      "include_colab_link": true
    },
    "kernelspec": {
      "name": "python3",
      "display_name": "Python 3"
    },
    "language_info": {
      "name": "python"
    }
  },
  "cells": [
    {
      "cell_type": "markdown",
      "metadata": {
        "id": "view-in-github",
        "colab_type": "text"
      },
      "source": [
        "<a href=\"https://colab.research.google.com/github/DFeng0215/FCMM/blob/main/FCMM.ipynb\" target=\"_parent\"><img src=\"https://colab.research.google.com/assets/colab-badge.svg\" alt=\"Open In Colab\"/></a>"
      ]
    },
    {
      "cell_type": "code",
      "execution_count": 1,
      "metadata": {
        "id": "sPYfezGOJ2D1"
      },
      "outputs": [],
      "source": [
        "import numpy as np\n",
        "import matplotlib.pyplot as plt\n",
        "import pandas as pd\n",
        "import seaborn as sns\n",
        "from sklearn.metrics import confusion_matrix\n",
        "from scipy.optimize import linear_sum_assignment"
      ]
    },
    {
      "cell_type": "code",
      "source": [
        "def initialize_matrices(n, q, c):\n",
        "    \"\"\"初始化子群集隸屬度矩陣 Y 和最終群集隸屬度矩陣 Z\"\"\"\n",
        "    Y = np.random.rand(n, q)\n",
        "    Y /= np.sum(Y, axis=1, keepdims=True)\n",
        "\n",
        "    Z = np.random.rand(q, c)\n",
        "    Z /= np.sum(Z, axis=0, keepdims=True)\n",
        "\n",
        "    return Y, Z"
      ],
      "metadata": {
        "id": "uswCKvWoJ5Ww"
      },
      "execution_count": 2,
      "outputs": []
    },
    {
      "cell_type": "code",
      "source": [
        "def update_subcluster_centers(data, Y, q, r):\n",
        "    \"\"\"更新子群集中心 M\"\"\"\n",
        "    um = Y ** r\n",
        "    M = (data.T @ um / np.sum(um, axis=0)).T\n",
        "    return M"
      ],
      "metadata": {
        "id": "jXWCshg0J6u3"
      },
      "execution_count": 3,
      "outputs": []
    },
    {
      "cell_type": "code",
      "source": [
        "def update_final_cluster_centers(M, Z, r):\n",
        "    \"\"\"更新最終群集中心 V\"\"\"\n",
        "    vm = Z ** r\n",
        "    V = (M.T @ vm / np.sum(vm, axis=0)).T\n",
        "    return V\n"
      ],
      "metadata": {
        "id": "mWJjhyBYJ8Gg"
      },
      "execution_count": 4,
      "outputs": []
    },
    {
      "cell_type": "code",
      "source": [
        "def update_membership_matrix(data, centers, r):\n",
        "    \"\"\"更新隸屬度矩陣 Y 或 Z\"\"\"\n",
        "    n, c = data.shape[0], centers.shape[0]\n",
        "    p = 2. / (r - 1)\n",
        "    U = np.zeros((n, c))\n",
        "    for i in range(n):\n",
        "        x = data[i]\n",
        "        dists = np.linalg.norm(x - centers, axis=1)\n",
        "        U[i] = 1. / np.sum((dists[:, np.newaxis] / dists) ** p, axis=1)\n",
        "    return U"
      ],
      "metadata": {
        "id": "6Gjg4SFaKAvR"
      },
      "execution_count": 5,
      "outputs": []
    },
    {
      "cell_type": "code",
      "source": [
        "def fcmm(data, q, c, r, alpha, error=0.005, maxiter=100):\n",
        "    \"\"\"實現 FCMM 算法\"\"\"\n",
        "    n = data.shape[0]\n",
        "    Y, Z = initialize_matrices(n, q, c)\n",
        "    iteration = 0\n",
        "    while iteration < maxiter:\n",
        "        M = update_subcluster_centers(data, Y, q, r)\n",
        "        V = update_final_cluster_centers(M, Z, r)\n",
        "        Y_old = Y.copy()\n",
        "        Z_old = Z.copy()\n",
        "        Y = update_membership_matrix(data, M, r)\n",
        "        Z = update_membership_matrix(M, V, r)\n",
        "        if np.linalg.norm(Y - Y_old) < error and np.linalg.norm(Z - Z_old) < error:\n",
        "            break\n",
        "        iteration += 1\n",
        "    return Y, Z, M, V"
      ],
      "metadata": {
        "id": "_9bQH1MJKCUt"
      },
      "execution_count": 6,
      "outputs": []
    },
    {
      "cell_type": "markdown",
      "source": [
        "Load Indian Pines Hyperspectral Dataset"
      ],
      "metadata": {
        "id": "dOZ7_-vCKFBI"
      }
    },
    {
      "cell_type": "code",
      "source": [
        "# 高光譜影像數據，三維資料集，分別是長、寬、光譜波段\n",
        "img = np.load('indianpinearray.npy')\n",
        "# 地面真實值(Ground Truth)，二維的對應每個數據點的歸屬\n",
        "gt = np.load('IPgt.npy')\n",
        "classes = np.unique(gt)\n",
        "\n",
        "#將三維數據降至二維\n",
        "data = img.reshape(-1, img.shape[-1])\n",
        "\n",
        "q, c = 32, 16  # Number of subclusters and clusters\n",
        "r = 1.33  # Fuzzy factor\n",
        "alpha = 8.3  # Balance parameter\n",
        "\n",
        "Y, Z, M, V = fcmm(data, q, c, r, alpha)\n",
        "print(\"Subcluster centers (M):\", M)\n",
        "print(\"Final cluster centers (V):\", V)"
      ],
      "metadata": {
        "colab": {
          "base_uri": "https://localhost:8080/",
          "height": 348
        },
        "id": "BxazEQheKEQn",
        "outputId": "0d2bc848-cef8-496d-d782-b49261a3aa01"
      },
      "execution_count": 7,
      "outputs": [
        {
          "output_type": "error",
          "ename": "FileNotFoundError",
          "evalue": "[Errno 2] No such file or directory: 'indianpinearray.npy'",
          "traceback": [
            "\u001b[0;31m---------------------------------------------------------------------------\u001b[0m",
            "\u001b[0;31mFileNotFoundError\u001b[0m                         Traceback (most recent call last)",
            "\u001b[0;32m<ipython-input-7-9aaeb3b9f548>\u001b[0m in \u001b[0;36m<cell line: 2>\u001b[0;34m()\u001b[0m\n\u001b[1;32m      1\u001b[0m \u001b[0;31m# 高光譜影像數據，三維資料集，分別是長、寬、光譜波段\u001b[0m\u001b[0;34m\u001b[0m\u001b[0;34m\u001b[0m\u001b[0m\n\u001b[0;32m----> 2\u001b[0;31m \u001b[0mimg\u001b[0m \u001b[0;34m=\u001b[0m \u001b[0mnp\u001b[0m\u001b[0;34m.\u001b[0m\u001b[0mload\u001b[0m\u001b[0;34m(\u001b[0m\u001b[0;34m'indianpinearray.npy'\u001b[0m\u001b[0;34m)\u001b[0m\u001b[0;34m\u001b[0m\u001b[0;34m\u001b[0m\u001b[0m\n\u001b[0m\u001b[1;32m      3\u001b[0m \u001b[0;31m# 地面真實值(Ground Truth)，二維的對應每個數據點的歸屬\u001b[0m\u001b[0;34m\u001b[0m\u001b[0;34m\u001b[0m\u001b[0m\n\u001b[1;32m      4\u001b[0m \u001b[0mgt\u001b[0m \u001b[0;34m=\u001b[0m \u001b[0mnp\u001b[0m\u001b[0;34m.\u001b[0m\u001b[0mload\u001b[0m\u001b[0;34m(\u001b[0m\u001b[0;34m'IPgt.npy'\u001b[0m\u001b[0;34m)\u001b[0m\u001b[0;34m\u001b[0m\u001b[0;34m\u001b[0m\u001b[0m\n\u001b[1;32m      5\u001b[0m \u001b[0mclasses\u001b[0m \u001b[0;34m=\u001b[0m \u001b[0mnp\u001b[0m\u001b[0;34m.\u001b[0m\u001b[0munique\u001b[0m\u001b[0;34m(\u001b[0m\u001b[0mgt\u001b[0m\u001b[0;34m)\u001b[0m\u001b[0;34m\u001b[0m\u001b[0;34m\u001b[0m\u001b[0m\n",
            "\u001b[0;32m/usr/local/lib/python3.10/dist-packages/numpy/lib/npyio.py\u001b[0m in \u001b[0;36mload\u001b[0;34m(file, mmap_mode, allow_pickle, fix_imports, encoding, max_header_size)\u001b[0m\n\u001b[1;32m    425\u001b[0m             \u001b[0mown_fid\u001b[0m \u001b[0;34m=\u001b[0m \u001b[0;32mFalse\u001b[0m\u001b[0;34m\u001b[0m\u001b[0;34m\u001b[0m\u001b[0m\n\u001b[1;32m    426\u001b[0m         \u001b[0;32melse\u001b[0m\u001b[0;34m:\u001b[0m\u001b[0;34m\u001b[0m\u001b[0;34m\u001b[0m\u001b[0m\n\u001b[0;32m--> 427\u001b[0;31m             \u001b[0mfid\u001b[0m \u001b[0;34m=\u001b[0m \u001b[0mstack\u001b[0m\u001b[0;34m.\u001b[0m\u001b[0menter_context\u001b[0m\u001b[0;34m(\u001b[0m\u001b[0mopen\u001b[0m\u001b[0;34m(\u001b[0m\u001b[0mos_fspath\u001b[0m\u001b[0;34m(\u001b[0m\u001b[0mfile\u001b[0m\u001b[0;34m)\u001b[0m\u001b[0;34m,\u001b[0m \u001b[0;34m\"rb\"\u001b[0m\u001b[0;34m)\u001b[0m\u001b[0;34m)\u001b[0m\u001b[0;34m\u001b[0m\u001b[0;34m\u001b[0m\u001b[0m\n\u001b[0m\u001b[1;32m    428\u001b[0m             \u001b[0mown_fid\u001b[0m \u001b[0;34m=\u001b[0m \u001b[0;32mTrue\u001b[0m\u001b[0;34m\u001b[0m\u001b[0;34m\u001b[0m\u001b[0m\n\u001b[1;32m    429\u001b[0m \u001b[0;34m\u001b[0m\u001b[0m\n",
            "\u001b[0;31mFileNotFoundError\u001b[0m: [Errno 2] No such file or directory: 'indianpinearray.npy'"
          ]
        }
      ]
    }
  ]
}