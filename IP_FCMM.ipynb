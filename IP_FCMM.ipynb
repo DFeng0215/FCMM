{
 "cells": [
  {
   "cell_type": "code",
   "execution_count": null,
   "metadata": {},
   "outputs": [
    {
     "ename": "",
     "evalue": "",
     "output_type": "error",
     "traceback": [
      "\u001b[1;31mRunning cells with 'Python 3.12.1' requires the ipykernel package.\n",
      "\u001b[1;31mRun the following command to install 'ipykernel' into the Python environment. \n",
      "\u001b[1;31mCommand: '\"c:/Users/MaseLab Master/AppData/Local/Programs/Python/Python312/python.exe\" -m pip install ipykernel -U --user --force-reinstall'"
     ]
    }
   ],
   "source": [
    "import numpy as np\n",
    "import matplotlib.pyplot as plt"
   ]
  },
  {
   "cell_type": "code",
   "execution_count": null,
   "metadata": {},
   "outputs": [
    {
     "ename": "",
     "evalue": "",
     "output_type": "error",
     "traceback": [
      "\u001b[1;31mRunning cells with 'Python 3.12.1' requires the ipykernel package.\n",
      "\u001b[1;31mRun the following command to install 'ipykernel' into the Python environment. \n",
      "\u001b[1;31mCommand: '\"c:/Users/MaseLab Master/AppData/Local/Programs/Python/Python312/python.exe\" -m pip install ipykernel -U --user --force-reinstall'"
     ]
    }
   ],
   "source": [
    "def initialize_matrices(n, q, c):\n",
    "    \"\"\"初始化子群集隸屬度矩陣 Y 和最終群集隸屬度矩陣 Z\"\"\"\n",
    "    Y = np.random.rand(n, q)\n",
    "    Y /= np.sum(Y, axis=1, keepdims=True)\n",
    "    \n",
    "    Z = np.random.rand(q, c)\n",
    "    Z /= np.sum(Z, axis=0, keepdims=True)\n",
    "    \n",
    "    return Y, Z"
   ]
  },
  {
   "cell_type": "code",
   "execution_count": null,
   "metadata": {},
   "outputs": [
    {
     "ename": "",
     "evalue": "",
     "output_type": "error",
     "traceback": [
      "\u001b[1;31mRunning cells with 'Python 3.12.1' requires the ipykernel package.\n",
      "\u001b[1;31mRun the following command to install 'ipykernel' into the Python environment. \n",
      "\u001b[1;31mCommand: '\"c:/Users/MaseLab Master/AppData/Local/Programs/Python/Python312/python.exe\" -m pip install ipykernel -U --user --force-reinstall'"
     ]
    }
   ],
   "source": [
    "def update_subcluster_centers(data, Y, q, r):\n",
    "    \"\"\"更新子群集中心 M\"\"\"\n",
    "    um = Y ** r\n",
    "    M = (data.T @ um / np.sum(um, axis=0)).T\n",
    "    return M"
   ]
  },
  {
   "cell_type": "code",
   "execution_count": null,
   "metadata": {},
   "outputs": [
    {
     "ename": "",
     "evalue": "",
     "output_type": "error",
     "traceback": [
      "\u001b[1;31mRunning cells with 'Python 3.12.1' requires the ipykernel package.\n",
      "\u001b[1;31mRun the following command to install 'ipykernel' into the Python environment. \n",
      "\u001b[1;31mCommand: '\"c:/Users/MaseLab Master/AppData/Local/Programs/Python/Python312/python.exe\" -m pip install ipykernel -U --user --force-reinstall'"
     ]
    }
   ],
   "source": [
    "def update_final_cluster_centers(M, Z, r):\n",
    "    \"\"\"更新最終群集中心 V\"\"\"\n",
    "    vm = Z ** r\n",
    "    V = (M.T @ vm / np.sum(vm, axis=0)).T\n",
    "    return V"
   ]
  },
  {
   "cell_type": "code",
   "execution_count": null,
   "metadata": {},
   "outputs": [
    {
     "ename": "",
     "evalue": "",
     "output_type": "error",
     "traceback": [
      "\u001b[1;31mRunning cells with 'Python 3.12.1' requires the ipykernel package.\n",
      "\u001b[1;31mRun the following command to install 'ipykernel' into the Python environment. \n",
      "\u001b[1;31mCommand: '\"c:/Users/MaseLab Master/AppData/Local/Programs/Python/Python312/python.exe\" -m pip install ipykernel -U --user --force-reinstall'"
     ]
    }
   ],
   "source": [
    "def update_membership_matrix(data, centers, r):\n",
    "    \"\"\"更新隸屬度矩陣 Y 或 Z\"\"\"\n",
    "    n, c = data.shape[0], centers.shape[0]\n",
    "    p = 2. / (r - 1)\n",
    "    U = np.zeros((n, c))\n",
    "    for i in range(n):\n",
    "        x = data[i]\n",
    "        dists = np.linalg.norm(x - centers, axis=1)\n",
    "        U[i] = 1. / np.sum((dists[:, np.newaxis] / dists) ** p, axis=1)\n",
    "    return U"
   ]
  },
  {
   "cell_type": "code",
   "execution_count": null,
   "metadata": {},
   "outputs": [
    {
     "ename": "",
     "evalue": "",
     "output_type": "error",
     "traceback": [
      "\u001b[1;31mRunning cells with 'Python 3.12.1' requires the ipykernel package.\n",
      "\u001b[1;31mRun the following command to install 'ipykernel' into the Python environment. \n",
      "\u001b[1;31mCommand: '\"c:/Users/MaseLab Master/AppData/Local/Programs/Python/Python312/python.exe\" -m pip install ipykernel -U --user --force-reinstall'"
     ]
    }
   ],
   "source": [
    "def fcmm(data, q, c, r, alpha, error=0.005, maxiter=100):\n",
    "    \"\"\"實現 FCMM 算法\"\"\"\n",
    "    n = data.shape[0]\n",
    "    Y, Z = initialize_matrices(n, q, c)\n",
    "    iteration = 0\n",
    "    while iteration < maxiter:\n",
    "        M = update_subcluster_centers(data, Y, q, r)\n",
    "        V = update_final_cluster_centers(M, Z, r)\n",
    "        Y_old = Y.copy()\n",
    "        Z_old = Z.copy()\n",
    "        Y = update_membership_matrix(data, M, r)\n",
    "        Z = update_membership_matrix(M, V, r)\n",
    "        if np.linalg.norm(Y - Y_old) < error and np.linalg.norm(Z - Z_old) < error:\n",
    "            break\n",
    "        iteration += 1\n",
    "    return Y, Z, M, V"
   ]
  },
  {
   "cell_type": "code",
   "execution_count": null,
   "metadata": {},
   "outputs": [
    {
     "ename": "",
     "evalue": "",
     "output_type": "error",
     "traceback": [
      "\u001b[1;31mRunning cells with 'Python 3.12.1' requires the ipykernel package.\n",
      "\u001b[1;31mRun the following command to install 'ipykernel' into the Python environment. \n",
      "\u001b[1;31mCommand: '\"c:/Users/MaseLab Master/AppData/Local/Programs/Python/Python312/python.exe\" -m pip install ipykernel -U --user --force-reinstall'"
     ]
    }
   ],
   "source": [
    "# Load Indian Pines Hyperspectral Dataset\n",
    "\n",
    "# 高光譜影像數據，三維資料集，分別是長、寬、光譜波段\n",
    "img = np.load('indianpinearray.npy')\n",
    "# 地面真實值(Ground Truth)，二維的對應每個數據點的歸屬\n",
    "gt = np.load('IPgt.npy')\n",
    "classes = np.unique(gt)\n",
    "\n",
    "#將三維數據降至二維\n",
    "data = img.reshape(-1, img.shape[-1])\n",
    "\n",
    "q, c = 32, 16  # Number of subclusters and clusters\n",
    "r = 1.33  # Fuzzy factor\n",
    "alpha = 8.3  # Balance parameter\n",
    "\n",
    "Y, Z, M, V = fcmm(data, q, c, r, alpha)\n",
    "print(\"Y\", Y)\n",
    "print(\"Z\", Z)\n",
    "print(\"Subcluster centers (M):\", M)\n",
    "print(\"Final cluster centers (V):\", V)"
   ]
  }
 ],
 "metadata": {
  "kernelspec": {
   "display_name": "Python 3",
   "language": "python",
   "name": "python3"
  },
  "language_info": {
   "name": "python",
   "version": "3.12.1"
  }
 },
 "nbformat": 4,
 "nbformat_minor": 2
}
